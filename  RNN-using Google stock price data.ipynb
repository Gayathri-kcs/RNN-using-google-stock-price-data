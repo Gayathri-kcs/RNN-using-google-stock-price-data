{
 "cells": [
  {
   "cell_type": "code",
   "execution_count": 1,
   "metadata": {},
   "outputs": [],
   "source": [
    "import pandas as pd\n",
    "import numpy as np\n",
    "import matplotlib.pyplot as plt"
   ]
  },
  {
   "cell_type": "markdown",
   "metadata": {},
   "source": [
    "# Read the data"
   ]
  },
  {
   "cell_type": "code",
   "execution_count": 2,
   "metadata": {},
   "outputs": [],
   "source": [
    "train=pd.read_csv(\"C:\\\\Users\\\\user\\\\Downloads\\\\Google_Stock_Price_Train.csv\")\n",
    "\n",
    "# predict the stock for year 2017"
   ]
  },
  {
   "cell_type": "code",
   "execution_count": 3,
   "metadata": {},
   "outputs": [
    {
     "data": {
      "text/html": [
       "<div>\n",
       "<style scoped>\n",
       "    .dataframe tbody tr th:only-of-type {\n",
       "        vertical-align: middle;\n",
       "    }\n",
       "\n",
       "    .dataframe tbody tr th {\n",
       "        vertical-align: top;\n",
       "    }\n",
       "\n",
       "    .dataframe thead th {\n",
       "        text-align: right;\n",
       "    }\n",
       "</style>\n",
       "<table border=\"1\" class=\"dataframe\">\n",
       "  <thead>\n",
       "    <tr style=\"text-align: right;\">\n",
       "      <th></th>\n",
       "      <th>Date</th>\n",
       "      <th>Open</th>\n",
       "      <th>High</th>\n",
       "      <th>Low</th>\n",
       "      <th>Close</th>\n",
       "      <th>Volume</th>\n",
       "    </tr>\n",
       "  </thead>\n",
       "  <tbody>\n",
       "    <tr>\n",
       "      <th>0</th>\n",
       "      <td>1/3/2012</td>\n",
       "      <td>325.25</td>\n",
       "      <td>332.83</td>\n",
       "      <td>324.97</td>\n",
       "      <td>663.59</td>\n",
       "      <td>7,380,500</td>\n",
       "    </tr>\n",
       "    <tr>\n",
       "      <th>1</th>\n",
       "      <td>1/4/2012</td>\n",
       "      <td>331.27</td>\n",
       "      <td>333.87</td>\n",
       "      <td>329.08</td>\n",
       "      <td>666.45</td>\n",
       "      <td>5,749,400</td>\n",
       "    </tr>\n",
       "    <tr>\n",
       "      <th>2</th>\n",
       "      <td>1/5/2012</td>\n",
       "      <td>329.83</td>\n",
       "      <td>330.75</td>\n",
       "      <td>326.89</td>\n",
       "      <td>657.21</td>\n",
       "      <td>6,590,300</td>\n",
       "    </tr>\n",
       "    <tr>\n",
       "      <th>3</th>\n",
       "      <td>1/6/2012</td>\n",
       "      <td>328.34</td>\n",
       "      <td>328.77</td>\n",
       "      <td>323.68</td>\n",
       "      <td>648.24</td>\n",
       "      <td>5,405,900</td>\n",
       "    </tr>\n",
       "    <tr>\n",
       "      <th>4</th>\n",
       "      <td>1/9/2012</td>\n",
       "      <td>322.04</td>\n",
       "      <td>322.29</td>\n",
       "      <td>309.46</td>\n",
       "      <td>620.76</td>\n",
       "      <td>11,688,800</td>\n",
       "    </tr>\n",
       "    <tr>\n",
       "      <th>...</th>\n",
       "      <td>...</td>\n",
       "      <td>...</td>\n",
       "      <td>...</td>\n",
       "      <td>...</td>\n",
       "      <td>...</td>\n",
       "      <td>...</td>\n",
       "    </tr>\n",
       "    <tr>\n",
       "      <th>1253</th>\n",
       "      <td>12/23/2016</td>\n",
       "      <td>790.90</td>\n",
       "      <td>792.74</td>\n",
       "      <td>787.28</td>\n",
       "      <td>789.91</td>\n",
       "      <td>623,400</td>\n",
       "    </tr>\n",
       "    <tr>\n",
       "      <th>1254</th>\n",
       "      <td>12/27/2016</td>\n",
       "      <td>790.68</td>\n",
       "      <td>797.86</td>\n",
       "      <td>787.66</td>\n",
       "      <td>791.55</td>\n",
       "      <td>789,100</td>\n",
       "    </tr>\n",
       "    <tr>\n",
       "      <th>1255</th>\n",
       "      <td>12/28/2016</td>\n",
       "      <td>793.70</td>\n",
       "      <td>794.23</td>\n",
       "      <td>783.20</td>\n",
       "      <td>785.05</td>\n",
       "      <td>1,153,800</td>\n",
       "    </tr>\n",
       "    <tr>\n",
       "      <th>1256</th>\n",
       "      <td>12/29/2016</td>\n",
       "      <td>783.33</td>\n",
       "      <td>785.93</td>\n",
       "      <td>778.92</td>\n",
       "      <td>782.79</td>\n",
       "      <td>744,300</td>\n",
       "    </tr>\n",
       "    <tr>\n",
       "      <th>1257</th>\n",
       "      <td>12/30/2016</td>\n",
       "      <td>782.75</td>\n",
       "      <td>782.78</td>\n",
       "      <td>770.41</td>\n",
       "      <td>771.82</td>\n",
       "      <td>1,770,000</td>\n",
       "    </tr>\n",
       "  </tbody>\n",
       "</table>\n",
       "<p>1258 rows × 6 columns</p>\n",
       "</div>"
      ],
      "text/plain": [
       "            Date    Open    High     Low   Close      Volume\n",
       "0       1/3/2012  325.25  332.83  324.97  663.59   7,380,500\n",
       "1       1/4/2012  331.27  333.87  329.08  666.45   5,749,400\n",
       "2       1/5/2012  329.83  330.75  326.89  657.21   6,590,300\n",
       "3       1/6/2012  328.34  328.77  323.68  648.24   5,405,900\n",
       "4       1/9/2012  322.04  322.29  309.46  620.76  11,688,800\n",
       "...          ...     ...     ...     ...     ...         ...\n",
       "1253  12/23/2016  790.90  792.74  787.28  789.91     623,400\n",
       "1254  12/27/2016  790.68  797.86  787.66  791.55     789,100\n",
       "1255  12/28/2016  793.70  794.23  783.20  785.05   1,153,800\n",
       "1256  12/29/2016  783.33  785.93  778.92  782.79     744,300\n",
       "1257  12/30/2016  782.75  782.78  770.41  771.82   1,770,000\n",
       "\n",
       "[1258 rows x 6 columns]"
      ]
     },
     "execution_count": 3,
     "metadata": {},
     "output_type": "execute_result"
    }
   ],
   "source": [
    "train"
   ]
  },
  {
   "cell_type": "code",
   "execution_count": 4,
   "metadata": {},
   "outputs": [
    {
     "data": {
      "text/plain": [
       "0       325.25\n",
       "1       331.27\n",
       "2       329.83\n",
       "3       328.34\n",
       "4       322.04\n",
       "         ...  \n",
       "1253    790.90\n",
       "1254    790.68\n",
       "1255    793.70\n",
       "1256    783.33\n",
       "1257    782.75\n",
       "Name: Open, Length: 1258, dtype: float64"
      ]
     },
     "execution_count": 4,
     "metadata": {},
     "output_type": "execute_result"
    }
   ],
   "source": [
    "dataset_open = train['Open']\n",
    "dataset_open"
   ]
  },
  {
   "cell_type": "code",
   "execution_count": 6,
   "metadata": {},
   "outputs": [],
   "source": [
    "# i will consider my input and outpur variable from same column \n",
    "# i will be taking last few days data as input varailabe say last 60 observation are inputs.\n",
    "#Input varilable 0 - 59  Output varilable : 60 \n",
    "#                1 - 60                   : 61\n",
    "#                2 - 61                   : 62\n",
    "#               3 - 62                    :  63\n"
   ]
  },
  {
   "cell_type": "code",
   "execution_count": 5,
   "metadata": {},
   "outputs": [],
   "source": [
    "# we are focus is only open column so we will consider only that column for stock analysis\n",
    "train=train.iloc[:,1:2].values"
   ]
  },
  {
   "cell_type": "code",
   "execution_count": 6,
   "metadata": {},
   "outputs": [
    {
     "data": {
      "text/plain": [
       "array([[325.25],\n",
       "       [331.27],\n",
       "       [329.83],\n",
       "       ...,\n",
       "       [793.7 ],\n",
       "       [783.33],\n",
       "       [782.75]])"
      ]
     },
     "execution_count": 6,
     "metadata": {},
     "output_type": "execute_result"
    }
   ],
   "source": [
    "train"
   ]
  },
  {
   "cell_type": "code",
   "execution_count": 7,
   "metadata": {},
   "outputs": [
    {
     "data": {
      "text/plain": [
       "2"
      ]
     },
     "execution_count": 7,
     "metadata": {},
     "output_type": "execute_result"
    }
   ],
   "source": [
    "train.ndim"
   ]
  },
  {
   "cell_type": "code",
   "execution_count": 11,
   "metadata": {},
   "outputs": [],
   "source": [
    "from sklearn.preprocessing import MinMaxScaler\n",
    "sc=MinMaxScaler()\n",
    "train=sc.fit_transform(train)"
   ]
  },
  {
   "cell_type": "code",
   "execution_count": 12,
   "metadata": {},
   "outputs": [
    {
     "data": {
      "text/plain": [
       "array([[0.08581368],\n",
       "       [0.09701243],\n",
       "       [0.09433366],\n",
       "       ...,\n",
       "       [0.95725128],\n",
       "       [0.93796041],\n",
       "       [0.93688146]])"
      ]
     },
     "execution_count": 12,
     "metadata": {},
     "output_type": "execute_result"
    }
   ],
   "source": [
    "train"
   ]
  },
  {
   "cell_type": "code",
   "execution_count": 8,
   "metadata": {},
   "outputs": [],
   "source": [
    "# Creating empty list for xtrain and Ytrain\n",
    "\n",
    "x_train=[]\n",
    "y_train=[]"
   ]
  },
  {
   "cell_type": "code",
   "execution_count": 9,
   "metadata": {},
   "outputs": [
    {
     "data": {
      "text/plain": [
       "(1258, 1)"
      ]
     },
     "execution_count": 9,
     "metadata": {},
     "output_type": "execute_result"
    }
   ],
   "source": [
    "train.shape"
   ]
  },
  {
   "cell_type": "code",
   "execution_count": 10,
   "metadata": {},
   "outputs": [],
   "source": [
    "for i in range(60,1258):\n",
    "    x_train.append(train[i-60:i,:])\n",
    "    y_train.append(train[i,:])"
   ]
  },
  {
   "cell_type": "code",
   "execution_count": 12,
   "metadata": {},
   "outputs": [
    {
     "data": {
      "text/plain": [
       "list"
      ]
     },
     "execution_count": 12,
     "metadata": {},
     "output_type": "execute_result"
    }
   ],
   "source": [
    "type(x_train)"
   ]
  },
  {
   "cell_type": "code",
   "execution_count": 13,
   "metadata": {},
   "outputs": [],
   "source": [
    "x_train=np.array(x_train)"
   ]
  },
  {
   "cell_type": "code",
   "execution_count": 14,
   "metadata": {},
   "outputs": [],
   "source": [
    "y_train=np.array(y_train)"
   ]
  },
  {
   "cell_type": "code",
   "execution_count": 15,
   "metadata": {},
   "outputs": [
    {
     "data": {
      "text/plain": [
       "(1198, 60, 1)"
      ]
     },
     "execution_count": 15,
     "metadata": {},
     "output_type": "execute_result"
    }
   ],
   "source": [
    "x_train.shape # ( rows, input in each row ,column)"
   ]
  },
  {
   "cell_type": "code",
   "execution_count": 24,
   "metadata": {},
   "outputs": [
    {
     "data": {
      "text/plain": [
       "(1198, 1)"
      ]
     },
     "execution_count": 24,
     "metadata": {},
     "output_type": "execute_result"
    }
   ],
   "source": [
    "y_train.shape"
   ]
  },
  {
   "cell_type": "markdown",
   "metadata": {},
   "source": [
    "# Building NN Model"
   ]
  },
  {
   "cell_type": "code",
   "execution_count": 16,
   "metadata": {},
   "outputs": [],
   "source": [
    "from keras.models import Sequential\n",
    "from keras.layers import LSTM\n",
    "from keras.layers import Dense\n",
    "from keras.layers import Dropout"
   ]
  },
  {
   "cell_type": "markdown",
   "metadata": {},
   "source": [
    "# Init the NN model"
   ]
  },
  {
   "cell_type": "code",
   "execution_count": 17,
   "metadata": {},
   "outputs": [],
   "source": [
    "model=Sequential()"
   ]
  },
  {
   "cell_type": "code",
   "execution_count": 27,
   "metadata": {},
   "outputs": [],
   "source": [
    "#x_train.shape"
   ]
  },
  {
   "cell_type": "code",
   "execution_count": 18,
   "metadata": {},
   "outputs": [],
   "source": [
    "# input_shape = num of independent variables \n",
    "# unit = number of output from Layers \n",
    "# Return Sequence will tell whether we are adding one more layer or not \n",
    "model.add(LSTM(return_sequences=True,input_shape=(x_train.shape[1],1),units=50))"
   ]
  },
  {
   "cell_type": "code",
   "execution_count": null,
   "metadata": {},
   "outputs": [],
   "source": [
    "#LSTM have more chances of Overfitting \n",
    "# dropout layer will remove some neurons which are causing Overfitting problem\n"
   ]
  },
  {
   "cell_type": "code",
   "execution_count": 19,
   "metadata": {},
   "outputs": [],
   "source": [
    "# if we have same context in cell then there is chances of Over fitting to so we have to remove that using Drop out \n",
    "# Drop out will remove some unwanted neurons \n",
    "\n",
    "model.add(Dropout(0.2))"
   ]
  },
  {
   "cell_type": "code",
   "execution_count": 20,
   "metadata": {},
   "outputs": [],
   "source": [
    "# its hidden layer so we dont pass input shape and Adding the multiple Hidden layer\n",
    "\n",
    "model.add(LSTM(return_sequences=True,units=50))\n",
    "model.add(Dropout(0.2))"
   ]
  },
  {
   "cell_type": "code",
   "execution_count": 21,
   "metadata": {},
   "outputs": [],
   "source": [
    "model.add(LSTM(return_sequences=True,units=50))\n",
    "model.add(Dropout(0.2))"
   ]
  },
  {
   "cell_type": "code",
   "execution_count": 22,
   "metadata": {},
   "outputs": [],
   "source": [
    "model.add(LSTM(return_sequences=False,units=50))\n",
    "model.add(Dropout(0.2))"
   ]
  },
  {
   "cell_type": "markdown",
   "metadata": {},
   "source": [
    "# Add Output layer"
   ]
  },
  {
   "cell_type": "code",
   "execution_count": 23,
   "metadata": {},
   "outputs": [],
   "source": [
    "# we have to add activation function but data am adding here is related to regression model and if we user activatoin fucnction relu\n",
    "# it will give only positive value but thats not correct way because am fine with out put negative also \n",
    "\n",
    "model.add(Dense(kernel_initializer=\"random_uniform\",units=1))"
   ]
  },
  {
   "cell_type": "markdown",
   "metadata": {},
   "source": [
    "# Compile the model"
   ]
  },
  {
   "cell_type": "code",
   "execution_count": 26,
   "metadata": {},
   "outputs": [],
   "source": [
    "#binary cross entory for binary \n",
    "#for regression we will use LSE \n",
    "# optimizer tells method how to update the weights using Gradient Descent Method\n",
    "\n",
    "model.compile(loss=\"mean_squared_error\",optimizer=\"adam\",metrics=[\"mse\"])"
   ]
  },
  {
   "cell_type": "code",
   "execution_count": 27,
   "metadata": {},
   "outputs": [
    {
     "name": "stdout",
     "output_type": "stream",
     "text": [
      "Epoch 1/50\n",
      "38/38 [==============================] - 22s 101ms/step - loss: 315569.6835 - mse: 315569.6835\n",
      "Epoch 2/50\n",
      "38/38 [==============================] - 4s 113ms/step - loss: 309004.2821 - mse: 309004.2821\n",
      "Epoch 3/50\n",
      "38/38 [==============================] - 4s 113ms/step - loss: 316557.5841 - mse: 316557.5841\n",
      "Epoch 4/50\n",
      "38/38 [==============================] - 4s 111ms/step - loss: 311206.5489 - mse: 311206.5489\n",
      "Epoch 5/50\n",
      "38/38 [==============================] - 4s 119ms/step - loss: 308207.0064 - mse: 308207.0064 0s - loss: 308235.2467 - mse: 308235.246\n",
      "Epoch 6/50\n",
      "38/38 [==============================] - 4s 114ms/step - loss: 300031.9744 - mse: 300031.9744\n",
      "Epoch 7/50\n",
      "38/38 [==============================] - 6s 148ms/step - loss: 306003.1306 - mse: 306003.1306\n",
      "Epoch 8/50\n",
      "38/38 [==============================] - 5s 132ms/step - loss: 301630.3670 - mse: 301630.3670\n",
      "Epoch 9/50\n",
      "38/38 [==============================] - 4s 101ms/step - loss: 297611.7957 - mse: 297611.7957\n",
      "Epoch 10/50\n",
      "38/38 [==============================] - 4s 112ms/step - loss: 295231.1931 - mse: 295231.1931\n",
      "Epoch 11/50\n",
      "38/38 [==============================] - 4s 108ms/step - loss: 299024.5785 - mse: 299024.5785\n",
      "Epoch 12/50\n",
      "38/38 [==============================] - 4s 101ms/step - loss: 300165.2091 - mse: 300165.2091\n",
      "Epoch 13/50\n",
      "38/38 [==============================] - 4s 102ms/step - loss: 296155.1034 - mse: 296155.1034\n",
      "Epoch 14/50\n",
      "38/38 [==============================] - 4s 101ms/step - loss: 285991.1018 - mse: 285991.1018\n",
      "Epoch 15/50\n",
      "38/38 [==============================] - 4s 101ms/step - loss: 288706.2772 - mse: 288706.2772 1s - loss: 289670.1690 - mse:\n",
      "Epoch 16/50\n",
      "38/38 [==============================] - 4s 100ms/step - loss: 283947.1490 - mse: 283947.1490\n",
      "Epoch 17/50\n",
      "38/38 [==============================] - 4s 101ms/step - loss: 281840.0946 - mse: 281840.0946 0s - loss: 281561.7823 - mse: 281\n",
      "Epoch 18/50\n",
      "38/38 [==============================] - 4s 101ms/step - loss: 275326.1558 - mse: 275326.1558\n",
      "Epoch 19/50\n",
      "38/38 [==============================] - 4s 100ms/step - loss: 279251.9760 - mse: 279251.9760\n",
      "Epoch 20/50\n",
      "38/38 [==============================] - 4s 100ms/step - loss: 283926.0417 - mse: 283926.0417\n",
      "Epoch 21/50\n",
      "38/38 [==============================] - 4s 102ms/step - loss: 273163.8614 - mse: 273163.8614\n",
      "Epoch 22/50\n",
      "38/38 [==============================] - 4s 102ms/step - loss: 281730.5793 - mse: 281730.5793\n",
      "Epoch 23/50\n",
      "38/38 [==============================] - 4s 101ms/step - loss: 271260.1450 - mse: 271260.1450\n",
      "Epoch 24/50\n",
      "38/38 [==============================] - 4s 101ms/step - loss: 266911.0633 - mse: 266911.0633\n",
      "Epoch 25/50\n",
      "38/38 [==============================] - 4s 102ms/step - loss: 265418.1478 - mse: 265418.1478\n",
      "Epoch 26/50\n",
      "38/38 [==============================] - 4s 104ms/step - loss: 268177.0321 - mse: 268177.0321\n",
      "Epoch 27/50\n",
      "38/38 [==============================] - 4s 101ms/step - loss: 260458.5966 - mse: 260458.5966\n",
      "Epoch 28/50\n",
      "38/38 [==============================] - 4s 101ms/step - loss: 267914.3029 - mse: 267914.3029\n",
      "Epoch 29/50\n",
      "38/38 [==============================] - 4s 102ms/step - loss: 263005.4407 - mse: 263005.4407\n",
      "Epoch 30/50\n",
      "38/38 [==============================] - 4s 101ms/step - loss: 264226.9716 - mse: 264226.9716\n",
      "Epoch 31/50\n",
      "38/38 [==============================] - 4s 109ms/step - loss: 263266.6895 - mse: 263266.6895\n",
      "Epoch 32/50\n",
      "38/38 [==============================] - 4s 103ms/step - loss: 258562.3970 - mse: 258562.3970\n",
      "Epoch 33/50\n",
      "38/38 [==============================] - 4s 102ms/step - loss: 250902.6274 - mse: 250902.6274\n",
      "Epoch 34/50\n",
      "38/38 [==============================] - 4s 103ms/step - loss: 251361.9155 - mse: 251361.9155\n",
      "Epoch 35/50\n",
      "38/38 [==============================] - 4s 103ms/step - loss: 244068.8025 - mse: 244068.8025\n",
      "Epoch 36/50\n",
      "38/38 [==============================] - 4s 101ms/step - loss: 249589.6983 - mse: 249589.6983\n",
      "Epoch 37/50\n",
      "38/38 [==============================] - 4s 101ms/step - loss: 244527.3738 - mse: 244527.3738\n",
      "Epoch 38/50\n",
      "38/38 [==============================] - 4s 102ms/step - loss: 245648.4459 - mse: 245648.4459\n",
      "Epoch 39/50\n",
      "38/38 [==============================] - 4s 102ms/step - loss: 236455.2552 - mse: 236455.2552\n",
      "Epoch 40/50\n",
      "38/38 [==============================] - 4s 100ms/step - loss: 247664.7151 - mse: 247664.7151\n",
      "Epoch 41/50\n",
      "38/38 [==============================] - 4s 102ms/step - loss: 241835.4207 - mse: 241835.4207\n",
      "Epoch 42/50\n",
      "38/38 [==============================] - 4s 102ms/step - loss: 233866.7163 - mse: 233866.7163\n",
      "Epoch 43/50\n",
      "38/38 [==============================] - 4s 101ms/step - loss: 238163.3001 - mse: 238163.3001\n",
      "Epoch 44/50\n",
      "38/38 [==============================] - 4s 105ms/step - loss: 235759.7744 - mse: 235759.7744\n",
      "Epoch 45/50\n",
      "38/38 [==============================] - 4s 101ms/step - loss: 232686.9207 - mse: 232686.9207 2s - loss: 2357\n",
      "Epoch 46/50\n",
      "38/38 [==============================] - 4s 101ms/step - loss: 230362.6282 - mse: 230362.6282\n",
      "Epoch 47/50\n",
      "38/38 [==============================] - 4s 102ms/step - loss: 230351.4291 - mse: 230351.4291\n",
      "Epoch 48/50\n",
      "38/38 [==============================] - 4s 102ms/step - loss: 224967.0240 - mse: 224967.0240\n",
      "Epoch 49/50\n",
      "38/38 [==============================] - 4s 103ms/step - loss: 226091.8113 - mse: 226091.8113\n",
      "Epoch 50/50\n",
      "38/38 [==============================] - 4s 102ms/step - loss: 230080.4479 - mse: 230080.4479\n"
     ]
    },
    {
     "data": {
      "text/plain": [
       "<tensorflow.python.keras.callbacks.History at 0x230516e1940>"
      ]
     },
     "execution_count": 27,
     "metadata": {},
     "output_type": "execute_result"
    }
   ],
   "source": [
    "model.fit(x_train, y_train, epochs = 50, batch_size = 32)"
   ]
  },
  {
   "cell_type": "code",
   "execution_count": 28,
   "metadata": {},
   "outputs": [
    {
     "data": {
      "text/plain": [
       "<tensorflow.python.keras.engine.sequential.Sequential at 0x23048dac280>"
      ]
     },
     "execution_count": 28,
     "metadata": {},
     "output_type": "execute_result"
    }
   ],
   "source": [
    "model"
   ]
  },
  {
   "cell_type": "code",
   "execution_count": 30,
   "metadata": {},
   "outputs": [],
   "source": [
    "train_data=pd.read_csv(\"C:\\\\Users\\\\user\\\\Downloads\\\\Stock_Price_Train.csv\")"
   ]
  },
  {
   "cell_type": "code",
   "execution_count": 31,
   "metadata": {},
   "outputs": [],
   "source": [
    "test_data=pd.read_csv(\"C:\\\\Users\\\\user\\\\Downloads\\\\Google_Stock_Price_Test.csv\")"
   ]
  },
  {
   "cell_type": "code",
   "execution_count": 32,
   "metadata": {},
   "outputs": [],
   "source": [
    "dataset=pd.concat([train_data,test_data])"
   ]
  },
  {
   "cell_type": "code",
   "execution_count": 33,
   "metadata": {},
   "outputs": [
    {
     "data": {
      "text/html": [
       "<div>\n",
       "<style scoped>\n",
       "    .dataframe tbody tr th:only-of-type {\n",
       "        vertical-align: middle;\n",
       "    }\n",
       "\n",
       "    .dataframe tbody tr th {\n",
       "        vertical-align: top;\n",
       "    }\n",
       "\n",
       "    .dataframe thead th {\n",
       "        text-align: right;\n",
       "    }\n",
       "</style>\n",
       "<table border=\"1\" class=\"dataframe\">\n",
       "  <thead>\n",
       "    <tr style=\"text-align: right;\">\n",
       "      <th></th>\n",
       "      <th>Date</th>\n",
       "      <th>Open</th>\n",
       "      <th>High</th>\n",
       "      <th>Low</th>\n",
       "      <th>Close</th>\n",
       "      <th>Volume</th>\n",
       "    </tr>\n",
       "  </thead>\n",
       "  <tbody>\n",
       "    <tr>\n",
       "      <th>0</th>\n",
       "      <td>1/3/2012</td>\n",
       "      <td>325.25</td>\n",
       "      <td>332.83</td>\n",
       "      <td>324.97</td>\n",
       "      <td>663.59</td>\n",
       "      <td>7,380,500</td>\n",
       "    </tr>\n",
       "    <tr>\n",
       "      <th>1</th>\n",
       "      <td>1/4/2012</td>\n",
       "      <td>331.27</td>\n",
       "      <td>333.87</td>\n",
       "      <td>329.08</td>\n",
       "      <td>666.45</td>\n",
       "      <td>5,749,400</td>\n",
       "    </tr>\n",
       "    <tr>\n",
       "      <th>2</th>\n",
       "      <td>1/5/2012</td>\n",
       "      <td>329.83</td>\n",
       "      <td>330.75</td>\n",
       "      <td>326.89</td>\n",
       "      <td>657.21</td>\n",
       "      <td>6,590,300</td>\n",
       "    </tr>\n",
       "    <tr>\n",
       "      <th>3</th>\n",
       "      <td>1/6/2012</td>\n",
       "      <td>328.34</td>\n",
       "      <td>328.77</td>\n",
       "      <td>323.68</td>\n",
       "      <td>648.24</td>\n",
       "      <td>5,405,900</td>\n",
       "    </tr>\n",
       "    <tr>\n",
       "      <th>4</th>\n",
       "      <td>1/9/2012</td>\n",
       "      <td>322.04</td>\n",
       "      <td>322.29</td>\n",
       "      <td>309.46</td>\n",
       "      <td>620.76</td>\n",
       "      <td>11,688,800</td>\n",
       "    </tr>\n",
       "    <tr>\n",
       "      <th>...</th>\n",
       "      <td>...</td>\n",
       "      <td>...</td>\n",
       "      <td>...</td>\n",
       "      <td>...</td>\n",
       "      <td>...</td>\n",
       "      <td>...</td>\n",
       "    </tr>\n",
       "    <tr>\n",
       "      <th>15</th>\n",
       "      <td>1/25/2017</td>\n",
       "      <td>829.62</td>\n",
       "      <td>835.77</td>\n",
       "      <td>825.06</td>\n",
       "      <td>835.67</td>\n",
       "      <td>1,494,500</td>\n",
       "    </tr>\n",
       "    <tr>\n",
       "      <th>16</th>\n",
       "      <td>1/26/2017</td>\n",
       "      <td>837.81</td>\n",
       "      <td>838.00</td>\n",
       "      <td>827.01</td>\n",
       "      <td>832.15</td>\n",
       "      <td>2,973,900</td>\n",
       "    </tr>\n",
       "    <tr>\n",
       "      <th>17</th>\n",
       "      <td>1/27/2017</td>\n",
       "      <td>834.71</td>\n",
       "      <td>841.95</td>\n",
       "      <td>820.44</td>\n",
       "      <td>823.31</td>\n",
       "      <td>2,965,800</td>\n",
       "    </tr>\n",
       "    <tr>\n",
       "      <th>18</th>\n",
       "      <td>1/30/2017</td>\n",
       "      <td>814.66</td>\n",
       "      <td>815.84</td>\n",
       "      <td>799.80</td>\n",
       "      <td>802.32</td>\n",
       "      <td>3,246,600</td>\n",
       "    </tr>\n",
       "    <tr>\n",
       "      <th>19</th>\n",
       "      <td>1/31/2017</td>\n",
       "      <td>796.86</td>\n",
       "      <td>801.25</td>\n",
       "      <td>790.52</td>\n",
       "      <td>796.79</td>\n",
       "      <td>2,160,600</td>\n",
       "    </tr>\n",
       "  </tbody>\n",
       "</table>\n",
       "<p>1278 rows × 6 columns</p>\n",
       "</div>"
      ],
      "text/plain": [
       "         Date    Open    High     Low   Close      Volume\n",
       "0    1/3/2012  325.25  332.83  324.97  663.59   7,380,500\n",
       "1    1/4/2012  331.27  333.87  329.08  666.45   5,749,400\n",
       "2    1/5/2012  329.83  330.75  326.89  657.21   6,590,300\n",
       "3    1/6/2012  328.34  328.77  323.68  648.24   5,405,900\n",
       "4    1/9/2012  322.04  322.29  309.46  620.76  11,688,800\n",
       "..        ...     ...     ...     ...     ...         ...\n",
       "15  1/25/2017  829.62  835.77  825.06  835.67   1,494,500\n",
       "16  1/26/2017  837.81  838.00  827.01  832.15   2,973,900\n",
       "17  1/27/2017  834.71  841.95  820.44  823.31   2,965,800\n",
       "18  1/30/2017  814.66  815.84  799.80  802.32   3,246,600\n",
       "19  1/31/2017  796.86  801.25  790.52  796.79   2,160,600\n",
       "\n",
       "[1278 rows x 6 columns]"
      ]
     },
     "execution_count": 33,
     "metadata": {},
     "output_type": "execute_result"
    }
   ],
   "source": [
    "dataset"
   ]
  },
  {
   "cell_type": "code",
   "execution_count": 34,
   "metadata": {},
   "outputs": [
    {
     "data": {
      "text/plain": [
       "1198"
      ]
     },
     "execution_count": 34,
     "metadata": {},
     "output_type": "execute_result"
    }
   ],
   "source": [
    "len(dataset)-len(test_data)-60"
   ]
  },
  {
   "cell_type": "code",
   "execution_count": 36,
   "metadata": {},
   "outputs": [],
   "source": [
    "# last 60 values from train data and 20 from Test Data \n",
    "\n",
    "test=dataset.iloc[len(dataset)-len(test_data)-60:,:]"
   ]
  },
  {
   "cell_type": "code",
   "execution_count": 37,
   "metadata": {},
   "outputs": [
    {
     "data": {
      "text/html": [
       "<div>\n",
       "<style scoped>\n",
       "    .dataframe tbody tr th:only-of-type {\n",
       "        vertical-align: middle;\n",
       "    }\n",
       "\n",
       "    .dataframe tbody tr th {\n",
       "        vertical-align: top;\n",
       "    }\n",
       "\n",
       "    .dataframe thead th {\n",
       "        text-align: right;\n",
       "    }\n",
       "</style>\n",
       "<table border=\"1\" class=\"dataframe\">\n",
       "  <thead>\n",
       "    <tr style=\"text-align: right;\">\n",
       "      <th></th>\n",
       "      <th>Date</th>\n",
       "      <th>Open</th>\n",
       "      <th>High</th>\n",
       "      <th>Low</th>\n",
       "      <th>Close</th>\n",
       "      <th>Volume</th>\n",
       "    </tr>\n",
       "  </thead>\n",
       "  <tbody>\n",
       "    <tr>\n",
       "      <th>1198</th>\n",
       "      <td>10/6/2016</td>\n",
       "      <td>779.00</td>\n",
       "      <td>780.48</td>\n",
       "      <td>775.54</td>\n",
       "      <td>776.86</td>\n",
       "      <td>1,070,700</td>\n",
       "    </tr>\n",
       "    <tr>\n",
       "      <th>1199</th>\n",
       "      <td>10/7/2016</td>\n",
       "      <td>779.66</td>\n",
       "      <td>779.66</td>\n",
       "      <td>770.75</td>\n",
       "      <td>775.08</td>\n",
       "      <td>933,200</td>\n",
       "    </tr>\n",
       "    <tr>\n",
       "      <th>1200</th>\n",
       "      <td>10/10/2016</td>\n",
       "      <td>777.71</td>\n",
       "      <td>789.38</td>\n",
       "      <td>775.87</td>\n",
       "      <td>785.94</td>\n",
       "      <td>1,174,900</td>\n",
       "    </tr>\n",
       "    <tr>\n",
       "      <th>1201</th>\n",
       "      <td>10/11/2016</td>\n",
       "      <td>786.66</td>\n",
       "      <td>792.28</td>\n",
       "      <td>780.58</td>\n",
       "      <td>783.07</td>\n",
       "      <td>1,372,500</td>\n",
       "    </tr>\n",
       "    <tr>\n",
       "      <th>1202</th>\n",
       "      <td>10/12/2016</td>\n",
       "      <td>783.76</td>\n",
       "      <td>788.13</td>\n",
       "      <td>782.06</td>\n",
       "      <td>786.14</td>\n",
       "      <td>937,400</td>\n",
       "    </tr>\n",
       "    <tr>\n",
       "      <th>...</th>\n",
       "      <td>...</td>\n",
       "      <td>...</td>\n",
       "      <td>...</td>\n",
       "      <td>...</td>\n",
       "      <td>...</td>\n",
       "      <td>...</td>\n",
       "    </tr>\n",
       "    <tr>\n",
       "      <th>15</th>\n",
       "      <td>1/25/2017</td>\n",
       "      <td>829.62</td>\n",
       "      <td>835.77</td>\n",
       "      <td>825.06</td>\n",
       "      <td>835.67</td>\n",
       "      <td>1,494,500</td>\n",
       "    </tr>\n",
       "    <tr>\n",
       "      <th>16</th>\n",
       "      <td>1/26/2017</td>\n",
       "      <td>837.81</td>\n",
       "      <td>838.00</td>\n",
       "      <td>827.01</td>\n",
       "      <td>832.15</td>\n",
       "      <td>2,973,900</td>\n",
       "    </tr>\n",
       "    <tr>\n",
       "      <th>17</th>\n",
       "      <td>1/27/2017</td>\n",
       "      <td>834.71</td>\n",
       "      <td>841.95</td>\n",
       "      <td>820.44</td>\n",
       "      <td>823.31</td>\n",
       "      <td>2,965,800</td>\n",
       "    </tr>\n",
       "    <tr>\n",
       "      <th>18</th>\n",
       "      <td>1/30/2017</td>\n",
       "      <td>814.66</td>\n",
       "      <td>815.84</td>\n",
       "      <td>799.80</td>\n",
       "      <td>802.32</td>\n",
       "      <td>3,246,600</td>\n",
       "    </tr>\n",
       "    <tr>\n",
       "      <th>19</th>\n",
       "      <td>1/31/2017</td>\n",
       "      <td>796.86</td>\n",
       "      <td>801.25</td>\n",
       "      <td>790.52</td>\n",
       "      <td>796.79</td>\n",
       "      <td>2,160,600</td>\n",
       "    </tr>\n",
       "  </tbody>\n",
       "</table>\n",
       "<p>80 rows × 6 columns</p>\n",
       "</div>"
      ],
      "text/plain": [
       "            Date    Open    High     Low   Close     Volume\n",
       "1198   10/6/2016  779.00  780.48  775.54  776.86  1,070,700\n",
       "1199   10/7/2016  779.66  779.66  770.75  775.08    933,200\n",
       "1200  10/10/2016  777.71  789.38  775.87  785.94  1,174,900\n",
       "1201  10/11/2016  786.66  792.28  780.58  783.07  1,372,500\n",
       "1202  10/12/2016  783.76  788.13  782.06  786.14    937,400\n",
       "...          ...     ...     ...     ...     ...        ...\n",
       "15     1/25/2017  829.62  835.77  825.06  835.67  1,494,500\n",
       "16     1/26/2017  837.81  838.00  827.01  832.15  2,973,900\n",
       "17     1/27/2017  834.71  841.95  820.44  823.31  2,965,800\n",
       "18     1/30/2017  814.66  815.84  799.80  802.32  3,246,600\n",
       "19     1/31/2017  796.86  801.25  790.52  796.79  2,160,600\n",
       "\n",
       "[80 rows x 6 columns]"
      ]
     },
     "execution_count": 37,
     "metadata": {},
     "output_type": "execute_result"
    }
   ],
   "source": [
    "test"
   ]
  },
  {
   "cell_type": "code",
   "execution_count": 38,
   "metadata": {},
   "outputs": [],
   "source": [
    "test=test[\"Open\"].values"
   ]
  },
  {
   "cell_type": "code",
   "execution_count": 47,
   "metadata": {},
   "outputs": [
    {
     "data": {
      "text/plain": [
       "(80,)"
      ]
     },
     "execution_count": 47,
     "metadata": {},
     "output_type": "execute_result"
    }
   ],
   "source": [
    "test.shape"
   ]
  },
  {
   "cell_type": "code",
   "execution_count": 39,
   "metadata": {},
   "outputs": [],
   "source": [
    "test=test.reshape(80,1)"
   ]
  },
  {
   "cell_type": "code",
   "execution_count": 41,
   "metadata": {},
   "outputs": [],
   "source": [
    "from sklearn.preprocessing import MinMaxScaler\n",
    "sc=MinMaxScaler()"
   ]
  },
  {
   "cell_type": "code",
   "execution_count": 44,
   "metadata": {},
   "outputs": [],
   "source": [
    "test=sc.fit_transform(test)"
   ]
  },
  {
   "cell_type": "code",
   "execution_count": 46,
   "metadata": {},
   "outputs": [],
   "source": [
    "x_test=[]\n",
    "y_test=[]"
   ]
  },
  {
   "cell_type": "code",
   "execution_count": 47,
   "metadata": {},
   "outputs": [],
   "source": [
    "for i in range(60,80):\n",
    "    x_test.append(test[i-60:i,:])\n",
    "    y_test.append(test[i,:])"
   ]
  },
  {
   "cell_type": "code",
   "execution_count": 48,
   "metadata": {},
   "outputs": [],
   "source": [
    "x_test=np.array(x_test)\n",
    "y_test=np.array(y_test)"
   ]
  },
  {
   "cell_type": "code",
   "execution_count": 51,
   "metadata": {},
   "outputs": [
    {
     "data": {
      "text/plain": [
       "(20, 60, 1)"
      ]
     },
     "execution_count": 51,
     "metadata": {},
     "output_type": "execute_result"
    }
   ],
   "source": [
    "x_test.shape"
   ]
  },
  {
   "cell_type": "code",
   "execution_count": 52,
   "metadata": {},
   "outputs": [
    {
     "data": {
      "text/plain": [
       "(20, 1)"
      ]
     },
     "execution_count": 52,
     "metadata": {},
     "output_type": "execute_result"
    }
   ],
   "source": [
    "y_test.shape"
   ]
  },
  {
   "cell_type": "code",
   "execution_count": 53,
   "metadata": {},
   "outputs": [],
   "source": [
    "y_pred = model.predict(x_test)"
   ]
  },
  {
   "cell_type": "code",
   "execution_count": 54,
   "metadata": {},
   "outputs": [
    {
     "data": {
      "text/plain": [
       "array([[95.88899],\n",
       "       [95.88899],\n",
       "       [95.88899],\n",
       "       [95.88899],\n",
       "       [95.88899],\n",
       "       [95.88899],\n",
       "       [95.88899],\n",
       "       [95.88899],\n",
       "       [95.88899],\n",
       "       [95.88899],\n",
       "       [95.88899],\n",
       "       [95.889  ],\n",
       "       [95.88899],\n",
       "       [95.88899],\n",
       "       [95.88899],\n",
       "       [95.88899],\n",
       "       [95.88899],\n",
       "       [95.88899],\n",
       "       [95.88899],\n",
       "       [95.889  ]], dtype=float32)"
      ]
     },
     "execution_count": 54,
     "metadata": {},
     "output_type": "execute_result"
    }
   ],
   "source": [
    "y_pred"
   ]
  },
  {
   "cell_type": "code",
   "execution_count": 55,
   "metadata": {},
   "outputs": [
    {
     "data": {
      "text/plain": [
       "array([[0.36708861],\n",
       "       [0.46953443],\n",
       "       [0.44507616],\n",
       "       [0.54355289],\n",
       "       [0.66305514],\n",
       "       [0.67871701],\n",
       "       [0.6480369 ],\n",
       "       [0.67099335],\n",
       "       [0.67464064],\n",
       "       [0.67034971],\n",
       "       [0.65672602],\n",
       "       [0.64932418],\n",
       "       [0.66852607],\n",
       "       [0.67217335],\n",
       "       [0.83361939],\n",
       "       [0.91214332],\n",
       "       [1.        ],\n",
       "       [0.96674533],\n",
       "       [0.75166273],\n",
       "       [0.56071658]])"
      ]
     },
     "execution_count": 55,
     "metadata": {},
     "output_type": "execute_result"
    }
   ],
   "source": [
    "y_test"
   ]
  },
  {
   "cell_type": "code",
   "execution_count": 56,
   "metadata": {},
   "outputs": [],
   "source": [
    "from sklearn.metrics import mean_squared_error"
   ]
  },
  {
   "cell_type": "code",
   "execution_count": 57,
   "metadata": {},
   "outputs": [
    {
     "data": {
      "text/plain": [
       "9065.703952590138"
      ]
     },
     "execution_count": 57,
     "metadata": {},
     "output_type": "execute_result"
    }
   ],
   "source": [
    "mean_squared_error(y_test,y_pred)"
   ]
  },
  {
   "cell_type": "code",
   "execution_count": 58,
   "metadata": {},
   "outputs": [
    {
     "data": {
      "image/png": "[encoded data removed]",
      "text/plain": [
       "<Figure size 432x288 with 1 Axes>"
      ]
     },
     "metadata": {
      "needs_background": "light"
     },
     "output_type": "display_data"
    }
   ],
   "source": [
    "plt.plot(y_test, color = 'red', label = 'Real Google Stock Price')\n",
    "plt.plot(y_pred, color = 'blue', label = 'Predicted Google Stock Price')\n",
    "plt.title('Google Stock Price Prediction')\n",
    "plt.xlabel('Time')\n",
    "plt.ylabel('Google Stock Price')\n",
    "plt.legend()\n",
    "plt.show()"
   ]
  },
  {
   "cell_type": "code",
   "execution_count": null,
   "metadata": {},
   "outputs": [],
   "source": []
  },
  {
   "cell_type": "code",
   "execution_count": null,
   "metadata": {},
   "outputs": [],
   "source": []
  }
 ],
 "metadata": {
  "kernelspec": {
   "display_name": "Python 3",
   "language": "python",
   "name": "python3"
  },
  "language_info": {
   "codemirror_mode": {
    "name": "ipython",
    "version": 3
   },
   "file_extension": ".py",
   "mimetype": "text/x-python",
   "name": "python",
   "nbconvert_exporter": "python",
   "pygments_lexer": "ipython3",
   "version": "3.8.8"
  }
 },
 "nbformat": 4,
 "nbformat_minor": 2
}
